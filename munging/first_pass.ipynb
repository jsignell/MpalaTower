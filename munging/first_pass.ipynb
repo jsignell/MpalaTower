{
 "cells": [
  {
   "cell_type": "code",
   "execution_count": 1,
   "metadata": {
    "collapsed": true
   },
   "outputs": [],
   "source": [
    "import os\n",
    "import shutil\n",
    "import posixpath\n",
    "import pandas as pd\n",
    "\n",
    "root_dir = 'C:/Users/Julia/Desktop/toughbook4_loggernet_2015_05_11/'"
   ]
  },
  {
   "cell_type": "code",
   "execution_count": 48,
   "metadata": {
    "collapsed": true
   },
   "outputs": [],
   "source": [
    "def get_attrs(header_file, attrs):\n",
    "    '''Augment attributes by inspecting the header of the .dat file.'''\n",
    "    # metadata needs to be CF-1.6 compliant\n",
    "    \n",
    "    # in the TOA5 datafile headers, some metadata are written in the 1st row\n",
    "    df_meta = pd.read_csv(header_file, nrows=1, dtype='str')\n",
    "    meta_list = list(df_meta.columns.values)\n",
    "\n",
    "    attrs.update({'format': meta_list[0],\n",
    "                  'logger': meta_list[1],\n",
    "                  'program': meta_list[5].split(':')[1],\n",
    "                  'datafile': meta_list[7]})\n",
    "    source_info = (attrs['logger'], attrs['datafile'], attrs['program'],\n",
    "                   meta_list[6])\n",
    "    source = 'Flux tower sensor data %s_%s.dat, %s, %s' % source_info\n",
    "    attrs.update({'source': source})\n",
    "\n",
    "    # the local attributes are in the 2nd, 3rd, and 4th rows\n",
    "    df_names = pd.read_csv(header_file, skiprows=[0], nrows=2, dtype='str')\n",
    "    df_names = df_names.astype('str')\n",
    "    df_names.index = ('units', 'comment')\n",
    "    local_attrs = df_names.to_dict()\n",
    "\n",
    "    return attrs, local_attrs"
   ]
  },
  {
   "cell_type": "code",
   "execution_count": 74,
   "metadata": {
    "collapsed": false
   },
   "outputs": [],
   "source": [
    "TOA5_files = []\n",
    "unknown_files = []\n",
    "for path, dirs, files in os.walk(root_dir):\n",
    "    for f in files:\n",
    "        attrs = {}\n",
    "        input_file = posixpath.join(path, f)\n",
    "        if os.stat(input_file).st_size >= 100e6:\n",
    "            attrs, local_attrs = get_attrs(input_file, attrs)\n",
    "            TOA5_files.append({'path': path,\n",
    "                              'filename': f,\n",
    "                              'local_attrs': local_attrs,\n",
    "                              'attrs': attrs,\n",
    "                              'size': os.stat(input_file).st_size/1e6\n",
    "                             })\n",
    "            continue\n",
    "        try:\n",
    "            df = pd.read_csv(root_dir+f, skiprows=[0, 2, 3], parse_dates=True,\n",
    "                             index_col=0, low_memory=False)\n",
    "            df = df.drop_duplicates()\n",
    "            df.sort(axis=1, inplace=True)\n",
    "            df.index.name = 'time'\n",
    "            attrs, local_attrs = get_attrs(input_file, attrs)\n",
    "            TOA5_files.append({'path': path,\n",
    "                               'filename': f,\n",
    "                               'df': df,\n",
    "                               'local_attrs': local_attrs,\n",
    "                               'attrs': attrs\n",
    "                              })                      \n",
    "        except:\n",
    "            unknown_files.append({'path': path,\n",
    "                                  'filename': f})"
   ]
  },
  {
   "cell_type": "code",
   "execution_count": 75,
   "metadata": {
    "collapsed": false
   },
   "outputs": [],
   "source": [
    "def regroup_files(info):\n",
    "    for f in TOA5_files:\n",
    "        for p in info['programs']:\n",
    "            if p in f['attrs']['program']:\n",
    "                proj_path = posixpath.join(f['path'], info['project'])\n",
    "                if os.path.exists(proj_path) is False:\n",
    "                    os.mkdir(proj_path)\n",
    "                output_path = posixpath.join(proj_path, p)\n",
    "                if os.path.exists(output_path) is False:\n",
    "                    os.mkdir(output_path)\n",
    "                try:\n",
    "                    shutil.move(posixpath.join(f['path'],f['filename']), posixpath.join(output_path,f['filename']))\n",
    "                except:\n",
    "                    continue"
   ]
  },
  {
   "cell_type": "code",
   "execution_count": 76,
   "metadata": {
    "collapsed": false
   },
   "outputs": [],
   "source": [
    "tower = {'project': 'Tower', 'programs': ['MainTower', 'Manifold']}"
   ]
  },
  {
   "cell_type": "code",
   "execution_count": 77,
   "metadata": {
    "collapsed": false
   },
   "outputs": [],
   "source": [
    "klee = {'project': 'KLEE', 'programs': ['Rainfall', 'KLEEMet']}"
   ]
  },
  {
   "cell_type": "code",
   "execution_count": 79,
   "metadata": {
    "collapsed": false
   },
   "outputs": [],
   "source": [
    "regroup_files(tower)"
   ]
  },
  {
   "cell_type": "code",
   "execution_count": null,
   "metadata": {
    "collapsed": true
   },
   "outputs": [],
   "source": []
  }
 ],
 "metadata": {
  "kernelspec": {
   "display_name": "Python 2",
   "language": "python",
   "name": "python2"
  },
  "language_info": {
   "codemirror_mode": {
    "name": "ipython",
    "version": 2
   },
   "file_extension": ".py",
   "mimetype": "text/x-python",
   "name": "python",
   "nbconvert_exporter": "python",
   "pygments_lexer": "ipython2",
   "version": "2.7.8"
  }
 },
 "nbformat": 4,
 "nbformat_minor": 0
}
