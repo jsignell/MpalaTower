{
 "cells": [
  {
   "cell_type": "markdown",
   "metadata": {},
   "source": [
    "##Test run code and watch for errors"
   ]
  },
  {
   "cell_type": "code",
   "execution_count": 1,
   "metadata": {
    "collapsed": false
   },
   "outputs": [],
   "source": [
    "from __init__ import *\n",
    "from process_files import just_do_it"
   ]
  },
  {
   "cell_type": "code",
   "execution_count": 4,
   "metadata": {
    "collapsed": true
   },
   "outputs": [],
   "source": [
    "root_dir = root_dir = os.getcwd().replace('\\\\','/').strip('munging')\n",
    "input_dir = posixpath.join(root_dir, 'munging/current_data/')\n",
    "output_dir = posixpath.join(root_dir, 'inspection/raw_netCDF_output/')"
   ]
  },
  {
   "cell_type": "code",
   "execution_count": 2,
   "metadata": {
    "collapsed": false
   },
   "outputs": [
    {
     "name": "stdout",
     "output_type": "stream",
     "text": [
      "C:/Users/Julia/Documents/GitHub/MpalaTower/munging/current_data/\n",
      "C:/Users/Julia/Documents/GitHub/MpalaTower/munging/current_data/ts_data\n",
      "C:/Users/Julia/Documents/GitHub/MpalaTower/inspection/raw_netCDF_output/ts_data/raw_MpalaTower_2015_097.nc\n",
      "C:/Users/Julia/Documents/GitHub/MpalaTower/inspection/raw_netCDF_output/ts_data/raw_MpalaTower_2015_098.nc\n"
     ]
    }
   ],
   "source": [
    "just_do_it(input_dir, output_dir, attrs, coords, **kwargs)"
   ]
  },
  {
   "cell_type": "code",
   "execution_count": 3,
   "metadata": {
    "collapsed": false
   },
   "outputs": [],
   "source": [
    "ds = xray.open_dataset(root_dir+'inspection/raw_netCDF_output/ts_data/raw_MpalaTower_2015_098.nc', decode_times=True)"
   ]
  }
 ],
 "metadata": {
  "kernelspec": {
   "display_name": "Python 2",
   "language": "python",
   "name": "python2"
  },
  "language_info": {
   "codemirror_mode": {
    "name": "ipython",
    "version": 2
   },
   "file_extension": ".py",
   "mimetype": "text/x-python",
   "name": "python",
   "nbconvert_exporter": "python",
   "pygments_lexer": "ipython2",
   "version": "2.7.8"
  }
 },
 "nbformat": 4,
 "nbformat_minor": 0
}
