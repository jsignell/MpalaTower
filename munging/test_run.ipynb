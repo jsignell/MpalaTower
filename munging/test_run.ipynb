{
 "cells": [
  {
   "cell_type": "markdown",
   "metadata": {},
   "source": [
    "##Test run code and watch for errors"
   ]
  },
  {
   "cell_type": "code",
   "execution_count": 10,
   "metadata": {
    "collapsed": false
   },
   "outputs": [],
   "source": [
    "from __init__ import *\n",
    "from find_files import get_files\n",
    "import TOA5_to_netcdf as t2n"
   ]
  },
  {
   "cell_type": "code",
   "execution_count": 6,
   "metadata": {
    "collapsed": false
   },
   "outputs": [],
   "source": [
    "root_dir = os.getcwd().replace('\\\\','/').strip('munging')\n",
    "input_dir = posixpath.join(root_dir, 'munging/current_data/')\n",
    "output_dir = posixpath.join(root_dir.strip('MpalaTower/'), 'raw_netCDF_output/')"
   ]
  },
  {
   "cell_type": "code",
   "execution_count": 7,
   "metadata": {
    "collapsed": false
   },
   "outputs": [
    {
     "data": {
      "text/plain": [
       "'C:/Users/Julia/Documents/GitHub/raw_netCDF_output/'"
      ]
     },
     "execution_count": 7,
     "metadata": {},
     "output_type": "execute_result"
    }
   ],
   "source": [
    "output_dir"
   ]
  },
  {
   "cell_type": "code",
   "execution_count": 8,
   "metadata": {
    "collapsed": false
   },
   "outputs": [
    {
     "name": "stdout",
     "output_type": "stream",
     "text": [
      "C:/Users/Julia/Documents/GitHub/MpalaTower/munging/current_data/\n",
      "C:/Users/Julia/Documents/GitHub/raw_netCDF_output/flux/raw_MpalaTower_2011_336.nc\n",
      "C:/Users/Julia/Documents/GitHub/raw_netCDF_output/flux/raw_MpalaTower_2011_343.nc\n",
      "C:/Users/Julia/Documents/GitHub/raw_netCDF_output/flux/raw_MpalaTower_2011_340.nc\n",
      "C:/Users/Julia/Documents/GitHub/raw_netCDF_output/flux/raw_MpalaTower_2012_059.nc\n"
     ]
    },
    {
     "data": {
      "text/plain": [
       "[]"
      ]
     },
     "execution_count": 8,
     "metadata": {},
     "output_type": "execute_result"
    }
   ],
   "source": [
    "get_files(input_dir, output_dir, attrs, coords, **kwargs)"
   ]
  },
  {
   "cell_type": "code",
   "execution_count": 9,
   "metadata": {
    "collapsed": false
   },
   "outputs": [
    {
     "data": {
      "text/plain": [
       "<xray.Dataset>\n",
       "Dimensions:            (index: 864000)\n",
       "Coordinates:\n",
       "  * index              (index) datetime64[ns] 2015-04-08 2015-04-08T00:00:00.100000 ...\n",
       "    lon                float32 36.9\n",
       "    elevation          int32 1610\n",
       "    lat                float32 0.5\n",
       "    station_name       |S11 'MPALA Tower'\n",
       "Data variables:\n",
       "    WVIA_PressTorr     (index) float32 39.648 39.648 39.648 39.648 39.648 39.648 39.648 39.648 ...\n",
       "    WVIA_CavTempC      (index) float32 48.354 48.354 48.354 48.354 48.354 48.354 48.354 48.354 ...\n",
       "    Ts                 (index) float32 nan nan nan nan nan nan nan nan nan nan nan nan nan nan ...\n",
       "    kh_mV              (index) float32 -4.44162 -2.13856 -4.11261 -2.87883 -3.86585 -2.79658 ...\n",
       "    diag_csat          (index) int32 61502 61502 61502 61502 61502 61502 61502 61502 61502 61502 ...\n",
       "    WVIA_del18O        (index) float32 -13.015 -13.015 -13.015 -13.015 -13.015 -13.015 -13.015 ...\n",
       "    Uy                 (index) float32 nan nan nan nan nan nan nan nan nan nan nan nan nan nan ...\n",
       "    t_hmp              (index) float32 16.8725 16.8692 16.8792 16.8825 16.8825 16.8775 16.8825 ...\n",
       "    KH_rho_w           (index) float32 nan nan nan nan nan nan nan nan nan nan nan nan nan nan ...\n",
       "    fw                 (index) float32 nan nan nan nan nan nan nan nan nan nan nan nan nan nan ...\n",
       "    RECORD             (index) int32 650893311 650893312 650893313 650893314 650893315 650893316 ...\n",
       "    e_hmp              (index) float32 1.68118 1.68244 1.68401 1.68364 1.68202 1.68418 1.68459 ...\n",
       "    Ux                 (index) float32 nan nan nan nan nan nan nan nan nan nan nan nan nan nan ...\n",
       "    Uz                 (index) float32 nan nan nan nan nan nan nan nan nan nan nan nan nan nan ...\n",
       "    press              (index) float32 83.6112 83.6079 83.6079 83.6112 83.6079 83.6145 83.6079 ...\n",
       "    WVIA_MirrorTempUS  (index) float32 7.86613 7.86613 7.86613 7.86613 7.86613 7.86613 7.86613 ...\n",
       "    WVIA_H2O_O18_16    (index) float32 0.00199104 0.00199104 0.00199104 0.00199104 0.00199104 ...\n",
       "    co2                (index) float32 773.551 772.675 772.524 772.35 772.097 772.54 772.815 ...\n",
       "    rh_hmp             (index) float32 87.5189 87.603 87.6293 87.5914 87.5074 87.6475 87.6409 ...\n",
       "    WVIA_delD          (index) float32 -73.794 -73.794 -73.794 -73.794 -73.794 -73.794 -73.794 ...\n",
       "    WVIA_DoverH        (index) float32 0.000144257 0.000144257 0.000144257 0.000144257 ...\n",
       "    WVIA_O18overO16    (index) float32 0.0019791 0.0019791 0.0019791 0.0019791 0.0019791 ...\n",
       "    h2o                (index) float32 8.4547 8.4465 8.45507 8.45754 8.45823 8.45168 8.41688 ...\n",
       "    WVIA_H2Oppm        (index) float32 16994.7 16994.7 16994.7 16994.7 16994.7 16994.7 16994.7 ...\n",
       "    WVIA_HDOoverH2O    (index) float32 0.000286675 0.000286675 0.000286675 0.000286675 ...\n",
       "Attributes:\n",
       "    featureType: timeSeries\n",
       "    institution: Princeton University\n",
       "    format: TOA5\n",
       "    creator_email: kcaylor@princeton.edu\n",
       "    keywords: eddy covariance, isotope hydrology, land surface flux\n",
       "    summary: This raw data comes from the MPALA Flux Tower, which is maintained by the Ecohydrology Lab at Mpala Research Centre in Laikipia, Kenya. It is part of a long-term monitoring project that was originally funded by NSF and now runs with support from Princeton. Its focus is on using stable isotopes to better understand water balance in drylands, particularly transpiration and evaporation fluxes.\n",
       "    id: MPALA Tower\n",
       "    naming_authority: caylor.princeton.edu\n",
       "    datafile: ts_data\n",
       "    license: MIT License\n",
       "    creator_name: Kelly Caylor\n",
       "    acknowledgement: Funded by NSF and Princeton University\n",
       "    local_timezone: Africa/Nairobi\n",
       "    Conventions: CF-1.6\n",
       "    source: Flux tower sensor data CR3000_SN4709_ts_data.dat, MainTowerCR3000_V11.cr3, 39879\n",
       "    program: MainTowerCR3000_V11.cr3\n",
       "    title: Flux Tower Data from MPALA\n",
       "    logger: CR3000_SN4709"
      ]
     },
     "execution_count": 9,
     "metadata": {},
     "output_type": "execute_result"
    }
   ],
   "source": [
    "xray.open_dataset(output_dir+'ts_data/raw_MpalaTower_2015_098.nc')"
   ]
  },
  {
   "cell_type": "code",
   "execution_count": null,
   "metadata": {
    "collapsed": true
   },
   "outputs": [],
   "source": []
  }
 ],
 "metadata": {
  "kernelspec": {
   "display_name": "Python 2",
   "language": "python",
   "name": "python2"
  },
  "language_info": {
   "codemirror_mode": {
    "name": "ipython",
    "version": 2
   },
   "file_extension": ".py",
   "mimetype": "text/x-python",
   "name": "python",
   "nbconvert_exporter": "python",
   "pygments_lexer": "ipython2",
   "version": "2.7.8"
  }
 },
 "nbformat": 4,
 "nbformat_minor": 0
}
